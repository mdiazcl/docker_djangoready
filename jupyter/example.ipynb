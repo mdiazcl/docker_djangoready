{
 "cells": [
  {
   "cell_type": "code",
   "execution_count": 1,
   "id": "ffb3cf95",
   "metadata": {},
   "outputs": [],
   "source": [
    "# In order to work with django you must start with this\n",
    "from jupyter import init_django\n",
    "init_django()"
   ]
  }
 ],
 "metadata": {
  "kernelspec": {
   "display_name": "Python 3 (ipykernel)",
   "language": "python",
   "name": "python3"
  },
  "language_info": {
   "codemirror_mode": {
    "name": "ipython",
    "version": 3
   },
   "file_extension": ".py",
   "mimetype": "text/x-python",
   "name": "python",
   "nbconvert_exporter": "python",
   "pygments_lexer": "ipython3",
   "version": "3.11.0b3"
  }
 },
 "nbformat": 4,
 "nbformat_minor": 5
}
